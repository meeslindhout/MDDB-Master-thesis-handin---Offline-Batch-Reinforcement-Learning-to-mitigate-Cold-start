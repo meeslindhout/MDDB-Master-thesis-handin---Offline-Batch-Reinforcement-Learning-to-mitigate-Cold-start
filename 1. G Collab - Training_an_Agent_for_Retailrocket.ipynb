{
  "cells": [
    {
      "cell_type": "markdown",
      "metadata": {},
      "source": [
        "[![Open In Colab](https://colab.research.google.com/assets/colab-badge.svg)](https://colab.research.google.com/github/meeslindhout/MDDB-Master-thesis-handin---Offline-Batch-Reinforcement-Learning-to-mitigate-Cold-start/blob/main/1.%20G%20Collab%20-%20Training_an_Agent_for_Retailrocket.ipynb)\n",
        "\n",
        "\n",
        "Warning! <font color=\"red\">Google collab has maximum session lengths of 1 hour, after 1 hour of running a jupyter notebook it will automatically shut down. This means that if you are training a model, you will lose all progress after 1 hour when you decide to train multiple agents in one session. Therefore, it is recommended to train one agent at a time and save the model weights immediately after training!</font>  \n",
        "\n",
        "On average it takes about 10 minutes to train an agent for 3000 episodes.\n",
        "\n",
        "If you would like to immediately use a a pre-trained agent, you can download the pre-trained agent from the following link: [Pre-trained agents](https://icthva-my.sharepoint.com/:f:/g/personal/mees_lindhout_hva_nl/EjZqaU7dDDhNlYVhK2PJT18BKCpxamzrmgyMT9tIHuk-kQ?e=JgkLKM)"
      ]
    },
    {
      "cell_type": "markdown",
      "metadata": {
        "id": "qj1khYD9LIdE"
      },
      "source": [
        "## Accessing the datasets from Google Drive & cloning the Github repo"
      ]
    },
    {
      "cell_type": "code",
      "execution_count": null,
      "metadata": {
        "colab": {
          "base_uri": "https://localhost:8080/"
        },
        "id": "tLuK3DwDIxyW",
        "outputId": "c96fe4a6-2399-48b2-bcd1-e26bad7acda7"
      },
      "outputs": [],
      "source": [
        "# connect to google drive to retrieve our preprocessed datasets.\n",
        "from google.colab import drive\n",
        "drive.mount('/content/drive')\n",
        "import os"
      ]
    },
    {
      "cell_type": "code",
      "execution_count": null,
      "metadata": {
        "colab": {
          "base_uri": "https://localhost:8080/"
        },
        "id": "jjWoqQLzI_H_",
        "outputId": "de72746d-c99d-431d-e355-99723ccbd3fa"
      },
      "outputs": [],
      "source": [
        "# the processed datasets folder needs to be moved to the github data folder\n",
        "!ls \"drive/MyDrive/Thesis research project\""
      ]
    },
    {
      "cell_type": "code",
      "execution_count": null,
      "metadata": {
        "colab": {
          "base_uri": "https://localhost:8080/"
        },
        "id": "xJihExFSJq16",
        "outputId": "b9f26a98-ede2-43d6-f95c-611bee54c57b"
      },
      "outputs": [],
      "source": [
        "# Clone the github repo that contains the code of the trainig agent\n",
        "!git clone https://github.com/meeslindhout/MDDB-Master-thesis-handin---Offline-Batch-Reinforcement-Learning-to-mitigate-Cold-start.git\n",
        "# you can ignore the lfs error."
      ]
    },
    {
      "cell_type": "code",
      "execution_count": null,
      "metadata": {
        "colab": {
          "base_uri": "https://localhost:8080/"
        },
        "id": "szk9ACxSKChZ",
        "outputId": "0c3f29af-b314-450f-cc62-90111700d526"
      },
      "outputs": [],
      "source": [
        "# At the moment our data folder does not contain the preprocessed data that is currently in our google drive. We need to copy it from google drive to the github repo\n",
        "!ls MDDB-Master-thesis-handin---Offline-Batch-Reinforcement-Learning-to-mitigate-Cold-start/data"
      ]
    },
    {
      "cell_type": "code",
      "execution_count": null,
      "metadata": {
        "id": "uhcFVEVqOVlO"
      },
      "outputs": [],
      "source": [
        "# Copy the processed data folder to the data folder in the github repo\n",
        "!cp -r \"/content/drive/MyDrive/Thesis research project/processed datasets\" MDDB-Master-thesis-handin---Offline-Batch-Reinforcement-Learning-to-mitigate-Cold-start/data"
      ]
    },
    {
      "cell_type": "code",
      "execution_count": null,
      "metadata": {
        "colab": {
          "base_uri": "https://localhost:8080/"
        },
        "id": "asa_yJYKLBAS",
        "outputId": "3b9c0dc0-21e2-4a80-f809-56755b06c9de"
      },
      "outputs": [],
      "source": [
        "# Now, our data folder does contain the preprocessed data folder and we are ready to go\n",
        "!ls MDDB-Master-thesis-handin---Offline-Batch-Reinforcement-Learning-to-mitigate-Cold-start/data"
      ]
    },
    {
      "cell_type": "code",
      "execution_count": null,
      "metadata": {
        "id": "k6wzhy0gO-Ds"
      },
      "outputs": [],
      "source": [
        "# set the working directory to be our github repo\n",
        "os.chdir('MDDB-Master-thesis-handin---Offline-Batch-Reinforcement-Learning-to-mitigate-Cold-start')"
      ]
    },
    {
      "cell_type": "code",
      "execution_count": null,
      "metadata": {
        "colab": {
          "base_uri": "https://localhost:8080/"
        },
        "id": "ERHvTu8GQIBh",
        "outputId": "290171fc-d2ac-4a74-d276-a1573d620a49"
      },
      "outputs": [],
      "source": [
        "# install required packages\n",
        "!pip install wandb -qU"
      ]
    },
    {
      "cell_type": "code",
      "execution_count": null,
      "metadata": {
        "id": "DxbJz-7iPRn8"
      },
      "outputs": [],
      "source": [
        "# load all required libraries\n",
        "import pandas as pd\n",
        "from src.recsys_rl import rl_recommender\n",
        "import wandb\n",
        "from google.colab import runtime"
      ]
    },
    {
      "cell_type": "code",
      "execution_count": null,
      "metadata": {
        "colab": {
          "base_uri": "https://localhost:8080/",
          "height": 143
        },
        "id": "Dxe3IN-LP5YG",
        "outputId": "a9cee719-4104-49b0-d8af-0b7a4dee71b4"
      },
      "outputs": [],
      "source": [
        "# login to wandb to monitor agent training\n",
        "wandb.login()"
      ]
    },
    {
      "cell_type": "markdown",
      "metadata": {
        "id": "0upO1dIWPKfy"
      },
      "source": [
        "## Load the dataset"
      ]
    },
    {
      "cell_type": "code",
      "execution_count": 6,
      "metadata": {
        "colab": {
          "base_uri": "https://localhost:8080/",
          "height": 244
        },
        "id": "R26lG54KRMMO",
        "outputId": "9fc49e08-a929-440c-edcd-8de3b40a06d1"
      },
      "outputs": [
        {
          "data": {
            "text/html": [
              "<div>\n",
              "<style scoped>\n",
              "    .dataframe tbody tr th:only-of-type {\n",
              "        vertical-align: middle;\n",
              "    }\n",
              "\n",
              "    .dataframe tbody tr th {\n",
              "        vertical-align: top;\n",
              "    }\n",
              "\n",
              "    .dataframe thead th {\n",
              "        text-align: right;\n",
              "    }\n",
              "</style>\n",
              "<table border=\"1\" class=\"dataframe\">\n",
              "  <thead>\n",
              "    <tr style=\"text-align: right;\">\n",
              "      <th></th>\n",
              "      <th>Time</th>\n",
              "      <th>UserId</th>\n",
              "      <th>Type</th>\n",
              "      <th>ItemId</th>\n",
              "      <th>SessionId</th>\n",
              "    </tr>\n",
              "  </thead>\n",
              "  <tbody>\n",
              "    <tr>\n",
              "      <th>0</th>\n",
              "      <td>1442004589</td>\n",
              "      <td>0</td>\n",
              "      <td>view</td>\n",
              "      <td>285930</td>\n",
              "      <td>1</td>\n",
              "    </tr>\n",
              "    <tr>\n",
              "      <th>1</th>\n",
              "      <td>1442004759</td>\n",
              "      <td>0</td>\n",
              "      <td>view</td>\n",
              "      <td>357564</td>\n",
              "      <td>1</td>\n",
              "    </tr>\n",
              "    <tr>\n",
              "      <th>2</th>\n",
              "      <td>1442004917</td>\n",
              "      <td>0</td>\n",
              "      <td>view</td>\n",
              "      <td>67045</td>\n",
              "      <td>1</td>\n",
              "    </tr>\n",
              "    <tr>\n",
              "      <th>3</th>\n",
              "      <td>1438969904</td>\n",
              "      <td>2</td>\n",
              "      <td>view</td>\n",
              "      <td>325215</td>\n",
              "      <td>3</td>\n",
              "    </tr>\n",
              "    <tr>\n",
              "      <th>4</th>\n",
              "      <td>1438970013</td>\n",
              "      <td>2</td>\n",
              "      <td>view</td>\n",
              "      <td>325215</td>\n",
              "      <td>3</td>\n",
              "    </tr>\n",
              "  </tbody>\n",
              "</table>\n",
              "</div>"
            ],
            "text/plain": [
              "         Time  UserId  Type  ItemId  SessionId\n",
              "0  1442004589       0  view  285930          1\n",
              "1  1442004759       0  view  357564          1\n",
              "2  1442004917       0  view   67045          1\n",
              "3  1438969904       2  view  325215          3\n",
              "4  1438970013       2  view  325215          3"
            ]
          },
          "metadata": {},
          "output_type": "display_data"
        },
        {
          "data": {
            "text/plain": [
              "(1184988, 5)"
            ]
          },
          "metadata": {},
          "output_type": "display_data"
        }
      ],
      "source": [
        "train = pd.read_csv(r'data/premade datasets/retailrocket/events_train_full.txt',\n",
        "                    sep='\\t')\n",
        "display(train.head())\n",
        "display(train.shape)"
      ]
    },
    {
      "cell_type": "code",
      "execution_count": 7,
      "metadata": {},
      "outputs": [
        {
          "data": {
            "text/plain": [
              "321871"
            ]
          },
          "execution_count": 7,
          "metadata": {},
          "output_type": "execute_result"
        }
      ],
      "source": [
        "# how many sessions are in the training set?\n",
        "train['SessionId'].nunique()"
      ]
    },
    {
      "cell_type": "code",
      "execution_count": 8,
      "metadata": {
        "colab": {
          "base_uri": "https://localhost:8080/"
        },
        "id": "-Sy1sIRcTkFo",
        "outputId": "6ec2e62a-ba3c-4362-8d27-92727a17fd0e"
      },
      "outputs": [
        {
          "data": {
            "text/plain": [
              "array(['view', 'addtocart', 'transaction'], dtype=object)"
            ]
          },
          "execution_count": 8,
          "metadata": {},
          "output_type": "execute_result"
        }
      ],
      "source": [
        "# get unique values from type\n",
        "train['Type'].unique()"
      ]
    },
    {
      "cell_type": "code",
      "execution_count": 11,
      "metadata": {
        "id": "kEcTtXlqThIJ"
      },
      "outputs": [],
      "source": [
        "# replace view with 0, and purchase with 1\n",
        "train['Type'] = train['Type'].replace({'view': 0, 'addtocart':1, 'transaction': 2})"
      ]
    },
    {
      "cell_type": "code",
      "execution_count": null,
      "metadata": {
        "id": "vE6Pp0vqSP-X"
      },
      "outputs": [],
      "source": [
        "# initialize the model / agent\n",
        "model = rl_recommender(\n",
        "    n_history=5,\n",
        "    reward_dict={0:3, 1:8, 3:10},\n",
        "    event_key='Type',\n",
        "    mode='training',\n",
        "    num_episodes=3000,\n",
        "    batch_size=64,\n",
        "    target_update_freq=1000,\n",
        "    memory=100_000,\n",
        "    learning_rate=0.0003,\n",
        "    gamma=0.99,\n",
        "    dataset_name='retailrocket',\n",
        "    custom_wandb_note=''\n",
        "    )"
      ]
    },
    {
      "cell_type": "code",
      "execution_count": null,
      "metadata": {
        "colab": {
          "base_uri": "https://localhost:8080/",
          "height": 841
        },
        "id": "SH6XolhIY_aJ",
        "outputId": "af7e0093-a7f5-48bb-83bf-339a64f0fd2b"
      },
      "outputs": [],
      "source": [
        "model.fit(train=train)"
      ]
    },
    {
      "cell_type": "code",
      "execution_count": null,
      "metadata": {},
      "outputs": [],
      "source": [
        "# copy all trained agents to google drive\n",
        "!cp -r \"/content/MDDB-Master-thesis-handin---Offline-Batch-Reinforcement-Learning-to-mitigate-Cold-start/trained agents/\" \"/content/drive/MyDrive/Thesis research project/\""
      ]
    },
    {
      "cell_type": "code",
      "execution_count": null,
      "metadata": {},
      "outputs": [],
      "source": [
        "# unassign the runtime from google collab. \n",
        "# This is to prevent the runtime from being disconnected after 12 hours.\n",
        "runtime.unassign()"
      ]
    }
  ],
  "metadata": {
    "colab": {
      "provenance": []
    },
    "kernelspec": {
      "display_name": "Python 3",
      "name": "python3"
    },
    "language_info": {
      "codemirror_mode": {
        "name": "ipython",
        "version": 3
      },
      "file_extension": ".py",
      "mimetype": "text/x-python",
      "name": "python",
      "nbconvert_exporter": "python",
      "pygments_lexer": "ipython3",
      "version": "3.9.19"
    }
  },
  "nbformat": 4,
  "nbformat_minor": 0
}
