{
 "cells": [
  {
   "cell_type": "code",
   "execution_count": 118,
   "metadata": {},
   "outputs": [],
   "source": [
    "import polars as pl\n",
    "import os"
   ]
  },
  {
   "cell_type": "code",
   "execution_count": 119,
   "metadata": {},
   "outputs": [
    {
     "name": "stdout",
     "output_type": "stream",
     "text": [
      "shape: (5, 5)\n",
      "┌───────────────┬────────┬──────┬────────┬───────────────┐\n",
      "│ Time          ┆ UserId ┆ Type ┆ ItemId ┆ transactionid │\n",
      "│ ---           ┆ ---    ┆ ---  ┆ ---    ┆ ---           │\n",
      "│ i64           ┆ i64    ┆ str  ┆ i64    ┆ str           │\n",
      "╞═══════════════╪════════╪══════╪════════╪═══════════════╡\n",
      "│ 1433221332117 ┆ 257597 ┆ view ┆ 355908 ┆ null          │\n",
      "│ 1433224214164 ┆ 992329 ┆ view ┆ 248676 ┆ null          │\n",
      "│ 1433221999827 ┆ 111016 ┆ view ┆ 318965 ┆ null          │\n",
      "│ 1433221955914 ┆ 483717 ┆ view ┆ 253185 ┆ null          │\n",
      "│ 1433221337106 ┆ 951259 ┆ view ┆ 367447 ┆ null          │\n",
      "└───────────────┴────────┴──────┴────────┴───────────────┘\n",
      "(2756101, 5)\n"
     ]
    }
   ],
   "source": [
    "# load the data as a lazy dataframe\n",
    "data = pl.scan_csv(r'data\\downloaded datasets\\retailrocket\\events.csv',\n",
    "                   with_column_names=lambda names: ['Time', 'UserId', 'Type', 'ItemId', 'transactionid'])\n",
    "\n",
    "print(data.fetch(5))\n",
    "print(data.collect().shape)"
   ]
  },
  {
   "cell_type": "code",
   "execution_count": 120,
   "metadata": {},
   "outputs": [],
   "source": [
    "# remove transactionid colum\n",
    "data = data.drop('transactionid')"
   ]
  },
  {
   "cell_type": "code",
   "execution_count": 121,
   "metadata": {},
   "outputs": [
    {
     "data": {
      "text/html": [
       "<div><style>\n",
       ".dataframe > thead > tr,\n",
       ".dataframe > tbody > tr {\n",
       "  text-align: right;\n",
       "  white-space: pre-wrap;\n",
       "}\n",
       "</style>\n",
       "<small>shape: (1, 4)</small><table border=\"1\" class=\"dataframe\"><thead><tr><th>Time</th><th>UserId</th><th>Type</th><th>ItemId</th></tr><tr><td>u32</td><td>u32</td><td>u32</td><td>u32</td></tr></thead><tbody><tr><td>0</td><td>0</td><td>0</td><td>0</td></tr></tbody></table></div>"
      ],
      "text/plain": [
       "shape: (1, 4)\n",
       "┌──────┬────────┬──────┬────────┐\n",
       "│ Time ┆ UserId ┆ Type ┆ ItemId │\n",
       "│ ---  ┆ ---    ┆ ---  ┆ ---    │\n",
       "│ u32  ┆ u32    ┆ u32  ┆ u32    │\n",
       "╞══════╪════════╪══════╪════════╡\n",
       "│ 0    ┆ 0      ┆ 0    ┆ 0      │\n",
       "└──────┴────────┴──────┴────────┘"
      ]
     },
     "execution_count": 121,
     "metadata": {},
     "output_type": "execute_result"
    }
   ],
   "source": [
    "# check for missing values\n",
    "data.null_count().collect()"
   ]
  },
  {
   "cell_type": "markdown",
   "metadata": {},
   "source": [
    "Create session ids. each session has a maximum lenght of 30 minutes."
   ]
  },
  {
   "cell_type": "code",
   "execution_count": 122,
   "metadata": {},
   "outputs": [],
   "source": [
    "# create a timestamp column \n",
    "data = (data\n",
    "          .with_columns(\n",
    "              pl.from_epoch(\"Time\", time_unit=\"ms\")\n",
    "              )\n",
    "          )"
   ]
  },
  {
   "cell_type": "markdown",
   "metadata": {},
   "source": [
    "create session ids. Each session has a maximum lenght of 30 minutes."
   ]
  },
  {
   "cell_type": "code",
   "execution_count": 123,
   "metadata": {},
   "outputs": [
    {
     "data": {
      "text/html": [
       "<div><style>\n",
       ".dataframe > thead > tr,\n",
       ".dataframe > tbody > tr {\n",
       "  text-align: right;\n",
       "  white-space: pre-wrap;\n",
       "}\n",
       "</style>\n",
       "<small>shape: (2_756_101, 5)</small><table border=\"1\" class=\"dataframe\"><thead><tr><th>Time</th><th>UserId</th><th>Type</th><th>ItemId</th><th>SessionId</th></tr><tr><td>datetime[ms]</td><td>i64</td><td>str</td><td>i64</td><td>u32</td></tr></thead><tbody><tr><td>2015-09-11 20:49:49.439</td><td>0</td><td>&quot;view&quot;</td><td>285930</td><td>1</td></tr><tr><td>2015-09-11 20:52:39.591</td><td>0</td><td>&quot;view&quot;</td><td>357564</td><td>1</td></tr><tr><td>2015-09-11 20:55:17.175</td><td>0</td><td>&quot;view&quot;</td><td>67045</td><td>1</td></tr><tr><td>2015-08-13 17:46:06.444</td><td>1</td><td>&quot;view&quot;</td><td>72028</td><td>2</td></tr><tr><td>2015-08-07 17:51:44.567</td><td>2</td><td>&quot;view&quot;</td><td>325215</td><td>3</td></tr><tr><td>&hellip;</td><td>&hellip;</td><td>&hellip;</td><td>&hellip;</td><td>&hellip;</td></tr><tr><td>2015-06-10 21:46:08.922</td><td>1407575</td><td>&quot;view&quot;</td><td>121220</td><td>1759829</td></tr><tr><td>2015-06-03 15:01:29.991</td><td>1407576</td><td>&quot;view&quot;</td><td>356208</td><td>1759830</td></tr><tr><td>2015-05-17 21:48:04.867</td><td>1407577</td><td>&quot;view&quot;</td><td>427784</td><td>1759831</td></tr><tr><td>2015-05-17 01:21:23.288</td><td>1407578</td><td>&quot;view&quot;</td><td>188736</td><td>1759832</td></tr><tr><td>2015-06-24 22:22:06.978</td><td>1407579</td><td>&quot;view&quot;</td><td>2521</td><td>1759833</td></tr></tbody></table></div>"
      ],
      "text/plain": [
       "shape: (2_756_101, 5)\n",
       "┌─────────────────────────┬─────────┬──────┬────────┬───────────┐\n",
       "│ Time                    ┆ UserId  ┆ Type ┆ ItemId ┆ SessionId │\n",
       "│ ---                     ┆ ---     ┆ ---  ┆ ---    ┆ ---       │\n",
       "│ datetime[ms]            ┆ i64     ┆ str  ┆ i64    ┆ u32       │\n",
       "╞═════════════════════════╪═════════╪══════╪════════╪═══════════╡\n",
       "│ 2015-09-11 20:49:49.439 ┆ 0       ┆ view ┆ 285930 ┆ 1         │\n",
       "│ 2015-09-11 20:52:39.591 ┆ 0       ┆ view ┆ 357564 ┆ 1         │\n",
       "│ 2015-09-11 20:55:17.175 ┆ 0       ┆ view ┆ 67045  ┆ 1         │\n",
       "│ 2015-08-13 17:46:06.444 ┆ 1       ┆ view ┆ 72028  ┆ 2         │\n",
       "│ 2015-08-07 17:51:44.567 ┆ 2       ┆ view ┆ 325215 ┆ 3         │\n",
       "│ …                       ┆ …       ┆ …    ┆ …      ┆ …         │\n",
       "│ 2015-06-10 21:46:08.922 ┆ 1407575 ┆ view ┆ 121220 ┆ 1759829   │\n",
       "│ 2015-06-03 15:01:29.991 ┆ 1407576 ┆ view ┆ 356208 ┆ 1759830   │\n",
       "│ 2015-05-17 21:48:04.867 ┆ 1407577 ┆ view ┆ 427784 ┆ 1759831   │\n",
       "│ 2015-05-17 01:21:23.288 ┆ 1407578 ┆ view ┆ 188736 ┆ 1759832   │\n",
       "│ 2015-06-24 22:22:06.978 ┆ 1407579 ┆ view ┆ 2521   ┆ 1759833   │\n",
       "└─────────────────────────┴─────────┴──────┴────────┴───────────┘"
      ]
     },
     "execution_count": 123,
     "metadata": {},
     "output_type": "execute_result"
    }
   ],
   "source": [
    "# sort the dataset on userid and timestamp\n",
    "data = data.sort(['UserId', 'Time'])\n",
    "\n",
    "data = (data\n",
    "       # create two new columns that contain boolean values if the previous row is another user or exceeds the maximum session length\n",
    "       .with_columns([\n",
    "           # check if the user_id is different from the previous row\n",
    "           (pl.col(\"UserId\").diff() != 0).fill_null(True).alias(\"char_diff\"),\n",
    "           # check if the time difference between the current and previous row exceeds the threshold\n",
    "           (pl.col(\"Time\").diff().dt.total_minutes().cast(pl.Int64) > 30).fill_null(True).alias(\"ts_diff\"),\n",
    "       ])\n",
    "\n",
    "       # create a new column that determines if a new session needs to be started after this row\n",
    "       .with_columns([\n",
    "           (pl.col(\"ts_diff\") | pl.col(\"char_diff\")).alias(\"new_session_mark\")\n",
    "       ])\n",
    "\n",
    "       # drop the columns that we don't need anymore\n",
    "       .drop([\"char_diff\", \"ts_diff\"])\n",
    "\n",
    "       # create a new column that contains the session id\n",
    "       .with_columns([\n",
    "           (pl.col(\"new_session_mark\").cum_sum()).alias(\"SessionId\")\n",
    "       ])\n",
    "       # drop the column that we don't need anymore\n",
    "       .drop(\"new_session_mark\")\n",
    "       )\n",
    "data.collect()"
   ]
  },
  {
   "cell_type": "markdown",
   "metadata": {},
   "source": [
    "Filter out session ids with only one interaction and also session ids that have items that appear les than 5 times. (item cold start)"
   ]
  },
  {
   "cell_type": "code",
   "execution_count": 124,
   "metadata": {},
   "outputs": [
    {
     "data": {
      "text/html": [
       "<div><style>\n",
       ".dataframe > thead > tr,\n",
       ".dataframe > tbody > tr {\n",
       "  text-align: right;\n",
       "  white-space: pre-wrap;\n",
       "}\n",
       "</style>\n",
       "<small>shape: (1_759_833, 2)</small><table border=\"1\" class=\"dataframe\"><thead><tr><th>SessionId</th><th>len</th></tr><tr><td>u32</td><td>u32</td></tr></thead><tbody><tr><td>1034497</td><td>1</td></tr><tr><td>176440</td><td>1</td></tr><tr><td>1582812</td><td>2</td></tr><tr><td>729605</td><td>2</td></tr><tr><td>560257</td><td>1</td></tr><tr><td>&hellip;</td><td>&hellip;</td></tr><tr><td>1739551</td><td>2</td></tr><tr><td>401871</td><td>1</td></tr><tr><td>984517</td><td>1</td></tr><tr><td>1379615</td><td>2</td></tr><tr><td>1692355</td><td>1</td></tr></tbody></table></div>"
      ],
      "text/plain": [
       "shape: (1_759_833, 2)\n",
       "┌───────────┬─────┐\n",
       "│ SessionId ┆ len │\n",
       "│ ---       ┆ --- │\n",
       "│ u32       ┆ u32 │\n",
       "╞═══════════╪═════╡\n",
       "│ 1034497   ┆ 1   │\n",
       "│ 176440    ┆ 1   │\n",
       "│ 1582812   ┆ 2   │\n",
       "│ 729605    ┆ 2   │\n",
       "│ 560257    ┆ 1   │\n",
       "│ …         ┆ …   │\n",
       "│ 1739551   ┆ 2   │\n",
       "│ 401871    ┆ 1   │\n",
       "│ 984517    ┆ 1   │\n",
       "│ 1379615   ┆ 2   │\n",
       "│ 1692355   ┆ 1   │\n",
       "└───────────┴─────┘"
      ]
     },
     "execution_count": 124,
     "metadata": {},
     "output_type": "execute_result"
    }
   ],
   "source": [
    "data.group_by('SessionId').len().collect()"
   ]
  },
  {
   "cell_type": "code",
   "execution_count": 128,
   "metadata": {},
   "outputs": [
    {
     "data": {
      "text/html": [
       "<div><style>\n",
       ".dataframe > thead > tr,\n",
       ".dataframe > tbody > tr {\n",
       "  text-align: right;\n",
       "  white-space: pre-wrap;\n",
       "}\n",
       "</style>\n",
       "<small>shape: (1_759_833, 2)</small><table border=\"1\" class=\"dataframe\"><thead><tr><th>SessionId</th><th>actions</th></tr><tr><td>u32</td><td>u32</td></tr></thead><tbody><tr><td>1193630</td><td>1</td></tr><tr><td>1559613</td><td>1</td></tr><tr><td>674421</td><td>3</td></tr><tr><td>1212774</td><td>8</td></tr><tr><td>1293908</td><td>5</td></tr><tr><td>&hellip;</td><td>&hellip;</td></tr><tr><td>1521697</td><td>1</td></tr><tr><td>183237</td><td>1</td></tr><tr><td>1522611</td><td>1</td></tr><tr><td>1593399</td><td>1</td></tr><tr><td>1135400</td><td>1</td></tr></tbody></table></div>"
      ],
      "text/plain": [
       "shape: (1_759_833, 2)\n",
       "┌───────────┬─────────┐\n",
       "│ SessionId ┆ actions │\n",
       "│ ---       ┆ ---     │\n",
       "│ u32       ┆ u32     │\n",
       "╞═══════════╪═════════╡\n",
       "│ 1193630   ┆ 1       │\n",
       "│ 1559613   ┆ 1       │\n",
       "│ 674421    ┆ 3       │\n",
       "│ 1212774   ┆ 8       │\n",
       "│ 1293908   ┆ 5       │\n",
       "│ …         ┆ …       │\n",
       "│ 1521697   ┆ 1       │\n",
       "│ 183237    ┆ 1       │\n",
       "│ 1522611   ┆ 1       │\n",
       "│ 1593399   ┆ 1       │\n",
       "│ 1135400   ┆ 1       │\n",
       "└───────────┴─────────┘"
      ]
     },
     "execution_count": 128,
     "metadata": {},
     "output_type": "execute_result"
    }
   ],
   "source": [
    "# Get session ids with more than one interaction in session\n",
    "SessionIdsWithMoreThanOneInteraction = (data\n",
    "                 .group_by('SessionId')\n",
    "                 .agg(pl.col('Type').len().alias('actions'))\n",
    "                #  .filter(pl.col('actions') > 4)\n",
    "                #  .select('SessionId')\n",
    "                 ).collect()\n",
    "\n",
    "SessionIdsWithMoreThanOneInteraction"
   ]
  },
  {
   "cell_type": "code",
   "execution_count": 84,
   "metadata": {},
   "outputs": [
    {
     "name": "stdout",
     "output_type": "stream",
     "text": [
      "ItemIdsColdstartItems: shape: (144_113, 1)\n",
      "┌────────┐\n",
      "│ ItemId │\n",
      "│ ---    │\n",
      "│ i64    │\n",
      "╞════════╡\n",
      "│ 241202 │\n",
      "│ 126761 │\n",
      "│ 198475 │\n",
      "│ 61749  │\n",
      "│ 463507 │\n",
      "│ …      │\n",
      "│ 379461 │\n",
      "│ 66846  │\n",
      "│ 437402 │\n",
      "│ 163051 │\n",
      "│ 296502 │\n",
      "└────────┘\n",
      "SessionIdsWithoutColdstartItems: shape: (2_491_203, 1)\n",
      "┌───────────┐\n",
      "│ SessionId │\n",
      "│ ---       │\n",
      "│ u32       │\n",
      "╞═══════════╡\n",
      "│ 1         │\n",
      "│ 1         │\n",
      "│ 1         │\n",
      "│ 2         │\n",
      "│ 3         │\n",
      "│ …         │\n",
      "│ 1759829   │\n",
      "│ 1759830   │\n",
      "│ 1759831   │\n",
      "│ 1759832   │\n",
      "│ 1759833   │\n",
      "└───────────┘\n"
     ]
    }
   ],
   "source": [
    "ItemIdsColdstartItems = (data\n",
    "                         .group_by('ItemId')\n",
    "                         .agg(pl.col('Type').count().alias('actions'))\n",
    "                         .filter(pl.col('actions') < 4)\n",
    "                         .select('ItemId')\n",
    "                         ).collect()\n",
    "\n",
    "print(f'ItemIdsColdstartItems: {ItemIdsColdstartItems}')\n",
    "\n",
    "SessionIdsWithoutColdstartItems = (data\n",
    "                                   # invert the filter to get the session ids that do not contain coldstart items\n",
    "                                   .filter(~pl.col('ItemId').is_in(ItemIdsColdstartItems))\n",
    "                                   .select('SessionId')\n",
    "                                   ).collect()\n",
    "print(f'SessionIdsWithoutColdstartItems: {SessionIdsWithoutColdstartItems}')"
   ]
  },
  {
   "cell_type": "code",
   "execution_count": 85,
   "metadata": {},
   "outputs": [
    {
     "data": {
      "text/html": [
       "<div><style>\n",
       ".dataframe > thead > tr,\n",
       ".dataframe > tbody > tr {\n",
       "  text-align: right;\n",
       "  white-space: pre-wrap;\n",
       "}\n",
       "</style>\n",
       "<small>shape: (950_047, 5)</small><table border=\"1\" class=\"dataframe\"><thead><tr><th>Time</th><th>UserId</th><th>Type</th><th>ItemId</th><th>SessionId</th></tr><tr><td>datetime[ms]</td><td>i64</td><td>str</td><td>i64</td><td>u32</td></tr></thead><tbody><tr><td>2015-09-11 20:49:49.439</td><td>0</td><td>&quot;view&quot;</td><td>285930</td><td>1</td></tr><tr><td>2015-09-11 20:52:39.591</td><td>0</td><td>&quot;view&quot;</td><td>357564</td><td>1</td></tr><tr><td>2015-09-11 20:55:17.175</td><td>0</td><td>&quot;view&quot;</td><td>67045</td><td>1</td></tr><tr><td>2015-08-07 17:51:44.567</td><td>2</td><td>&quot;view&quot;</td><td>325215</td><td>3</td></tr><tr><td>2015-08-07 17:53:33.790</td><td>2</td><td>&quot;view&quot;</td><td>325215</td><td>3</td></tr><tr><td>&hellip;</td><td>&hellip;</td><td>&hellip;</td><td>&hellip;</td><td>&hellip;</td></tr><tr><td>2015-06-17 23:57:31.071</td><td>1407527</td><td>&quot;view&quot;</td><td>85307</td><td>1759774</td></tr><tr><td>2015-07-27 05:05:55.003</td><td>1407573</td><td>&quot;view&quot;</td><td>232069</td><td>1759825</td></tr><tr><td>2015-07-27 05:07:58.632</td><td>1407573</td><td>&quot;view&quot;</td><td>116453</td><td>1759825</td></tr><tr><td>2015-07-27 05:09:31.542</td><td>1407573</td><td>&quot;view&quot;</td><td>235724</td><td>1759825</td></tr><tr><td>2015-07-27 05:13:15.037</td><td>1407573</td><td>&quot;view&quot;</td><td>57720</td><td>1759825</td></tr></tbody></table></div>"
      ],
      "text/plain": [
       "shape: (950_047, 5)\n",
       "┌─────────────────────────┬─────────┬──────┬────────┬───────────┐\n",
       "│ Time                    ┆ UserId  ┆ Type ┆ ItemId ┆ SessionId │\n",
       "│ ---                     ┆ ---     ┆ ---  ┆ ---    ┆ ---       │\n",
       "│ datetime[ms]            ┆ i64     ┆ str  ┆ i64    ┆ u32       │\n",
       "╞═════════════════════════╪═════════╪══════╪════════╪═══════════╡\n",
       "│ 2015-09-11 20:49:49.439 ┆ 0       ┆ view ┆ 285930 ┆ 1         │\n",
       "│ 2015-09-11 20:52:39.591 ┆ 0       ┆ view ┆ 357564 ┆ 1         │\n",
       "│ 2015-09-11 20:55:17.175 ┆ 0       ┆ view ┆ 67045  ┆ 1         │\n",
       "│ 2015-08-07 17:51:44.567 ┆ 2       ┆ view ┆ 325215 ┆ 3         │\n",
       "│ 2015-08-07 17:53:33.790 ┆ 2       ┆ view ┆ 325215 ┆ 3         │\n",
       "│ …                       ┆ …       ┆ …    ┆ …      ┆ …         │\n",
       "│ 2015-06-17 23:57:31.071 ┆ 1407527 ┆ view ┆ 85307  ┆ 1759774   │\n",
       "│ 2015-07-27 05:05:55.003 ┆ 1407573 ┆ view ┆ 232069 ┆ 1759825   │\n",
       "│ 2015-07-27 05:07:58.632 ┆ 1407573 ┆ view ┆ 116453 ┆ 1759825   │\n",
       "│ 2015-07-27 05:09:31.542 ┆ 1407573 ┆ view ┆ 235724 ┆ 1759825   │\n",
       "│ 2015-07-27 05:13:15.037 ┆ 1407573 ┆ view ┆ 57720  ┆ 1759825   │\n",
       "└─────────────────────────┴─────────┴──────┴────────┴───────────┘"
      ]
     },
     "metadata": {},
     "output_type": "display_data"
    },
    {
     "data": {
      "text/plain": [
       "(950047, 5)"
      ]
     },
     "execution_count": 85,
     "metadata": {},
     "output_type": "execute_result"
    }
   ],
   "source": [
    "# keep the session ids that have more than one interaction and do not contain coldstart items\n",
    "data = (data\n",
    "        .filter(pl.col('SessionId').is_in(SessionIdsWithMoreThanOneInteraction))\n",
    "        .filter(pl.col('SessionId').is_in(SessionIdsWithoutColdstartItems))\n",
    "\n",
    "        # sort the dataset on userid and timestamp\n",
    "        .sort(['SessionId', 'Time'])\n",
    "        ).collect()\n",
    "\n",
    "display(data)\n",
    "data.shape"
   ]
  },
  {
   "cell_type": "markdown",
   "metadata": {},
   "source": [
    "Create a train and test set."
   ]
  },
  {
   "cell_type": "code",
   "execution_count": 86,
   "metadata": {},
   "outputs": [
    {
     "name": "stdout",
     "output_type": "stream",
     "text": [
      "First date in the dataset: 2015-05-03 03:00:04.384000\n",
      "Last date in the dataset: 2015-09-18 02:58:58.914000\n"
     ]
    }
   ],
   "source": [
    "min_time = data['Time'].min()\n",
    "max_time = data['Time'].max()\n",
    "\n",
    "print(f\"First date in the dataset: {min_time}\")\n",
    "print(f\"Last date in the dataset: {max_time}\")"
   ]
  },
  {
   "cell_type": "code",
   "execution_count": 87,
   "metadata": {},
   "outputs": [
    {
     "data": {
      "text/html": [
       "<div><style>\n",
       ".dataframe > thead > tr,\n",
       ".dataframe > tbody > tr {\n",
       "  text-align: right;\n",
       "  white-space: pre-wrap;\n",
       "}\n",
       "</style>\n",
       "<small>shape: (35_594, 5)</small><table border=\"1\" class=\"dataframe\"><thead><tr><th>Time</th><th>UserId</th><th>Type</th><th>ItemId</th><th>SessionId</th></tr><tr><td>datetime[ms]</td><td>i64</td><td>str</td><td>i64</td><td>u32</td></tr></thead><tbody><tr><td>2015-09-11 20:49:49.439</td><td>0</td><td>&quot;view&quot;</td><td>285930</td><td>1</td></tr><tr><td>2015-09-11 20:52:39.591</td><td>0</td><td>&quot;view&quot;</td><td>357564</td><td>1</td></tr><tr><td>2015-09-11 20:55:17.175</td><td>0</td><td>&quot;view&quot;</td><td>67045</td><td>1</td></tr><tr><td>2015-09-15 17:35:31.705</td><td>54</td><td>&quot;view&quot;</td><td>388096</td><td>66</td></tr><tr><td>2015-09-15 17:37:45.550</td><td>54</td><td>&quot;view&quot;</td><td>283115</td><td>66</td></tr><tr><td>&hellip;</td><td>&hellip;</td><td>&hellip;</td><td>&hellip;</td><td>&hellip;</td></tr><tr><td>2015-09-11 04:39:40.260</td><td>1406985</td><td>&quot;view&quot;</td><td>425477</td><td>1759082</td></tr><tr><td>2015-09-11 04:51:24.263</td><td>1406985</td><td>&quot;view&quot;</td><td>407489</td><td>1759082</td></tr><tr><td>2015-09-11 04:51:42.207</td><td>1406985</td><td>&quot;view&quot;</td><td>415976</td><td>1759082</td></tr><tr><td>2015-09-11 04:54:12.093</td><td>1406985</td><td>&quot;view&quot;</td><td>344902</td><td>1759082</td></tr><tr><td>2015-09-11 04:56:35.939</td><td>1406985</td><td>&quot;view&quot;</td><td>103922</td><td>1759082</td></tr></tbody></table></div>"
      ],
      "text/plain": [
       "shape: (35_594, 5)\n",
       "┌─────────────────────────┬─────────┬──────┬────────┬───────────┐\n",
       "│ Time                    ┆ UserId  ┆ Type ┆ ItemId ┆ SessionId │\n",
       "│ ---                     ┆ ---     ┆ ---  ┆ ---    ┆ ---       │\n",
       "│ datetime[ms]            ┆ i64     ┆ str  ┆ i64    ┆ u32       │\n",
       "╞═════════════════════════╪═════════╪══════╪════════╪═══════════╡\n",
       "│ 2015-09-11 20:49:49.439 ┆ 0       ┆ view ┆ 285930 ┆ 1         │\n",
       "│ 2015-09-11 20:52:39.591 ┆ 0       ┆ view ┆ 357564 ┆ 1         │\n",
       "│ 2015-09-11 20:55:17.175 ┆ 0       ┆ view ┆ 67045  ┆ 1         │\n",
       "│ 2015-09-15 17:35:31.705 ┆ 54      ┆ view ┆ 388096 ┆ 66        │\n",
       "│ 2015-09-15 17:37:45.550 ┆ 54      ┆ view ┆ 283115 ┆ 66        │\n",
       "│ …                       ┆ …       ┆ …    ┆ …      ┆ …         │\n",
       "│ 2015-09-11 04:39:40.260 ┆ 1406985 ┆ view ┆ 425477 ┆ 1759082   │\n",
       "│ 2015-09-11 04:51:24.263 ┆ 1406985 ┆ view ┆ 407489 ┆ 1759082   │\n",
       "│ 2015-09-11 04:51:42.207 ┆ 1406985 ┆ view ┆ 415976 ┆ 1759082   │\n",
       "│ 2015-09-11 04:54:12.093 ┆ 1406985 ┆ view ┆ 344902 ┆ 1759082   │\n",
       "│ 2015-09-11 04:56:35.939 ┆ 1406985 ┆ view ┆ 103922 ┆ 1759082   │\n",
       "└─────────────────────────┴─────────┴──────┴────────┴───────────┘"
      ]
     },
     "execution_count": 87,
     "metadata": {},
     "output_type": "execute_result"
    }
   ],
   "source": [
    "# take last 7 days of data as test set\n",
    "test = data.filter(pl.col('Time') > max_time - pl.duration(days=7))\n",
    "\n",
    "test"
   ]
  },
  {
   "cell_type": "code",
   "execution_count": 88,
   "metadata": {},
   "outputs": [
    {
     "data": {
      "text/html": [
       "<div><style>\n",
       ".dataframe > thead > tr,\n",
       ".dataframe > tbody > tr {\n",
       "  text-align: right;\n",
       "  white-space: pre-wrap;\n",
       "}\n",
       "</style>\n",
       "<small>shape: (914_453, 5)</small><table border=\"1\" class=\"dataframe\"><thead><tr><th>Time</th><th>UserId</th><th>Type</th><th>ItemId</th><th>SessionId</th></tr><tr><td>datetime[ms]</td><td>i64</td><td>str</td><td>i64</td><td>u32</td></tr></thead><tbody><tr><td>2015-08-07 17:51:44.567</td><td>2</td><td>&quot;view&quot;</td><td>325215</td><td>3</td></tr><tr><td>2015-08-07 17:53:33.790</td><td>2</td><td>&quot;view&quot;</td><td>325215</td><td>3</td></tr><tr><td>2015-08-07 17:56:52.664</td><td>2</td><td>&quot;view&quot;</td><td>259884</td><td>3</td></tr><tr><td>2015-08-07 18:01:08.920</td><td>2</td><td>&quot;view&quot;</td><td>216305</td><td>3</td></tr><tr><td>2015-08-07 18:08:25.669</td><td>2</td><td>&quot;view&quot;</td><td>342816</td><td>3</td></tr><tr><td>&hellip;</td><td>&hellip;</td><td>&hellip;</td><td>&hellip;</td><td>&hellip;</td></tr><tr><td>2015-06-17 23:57:31.071</td><td>1407527</td><td>&quot;view&quot;</td><td>85307</td><td>1759774</td></tr><tr><td>2015-07-27 05:05:55.003</td><td>1407573</td><td>&quot;view&quot;</td><td>232069</td><td>1759825</td></tr><tr><td>2015-07-27 05:07:58.632</td><td>1407573</td><td>&quot;view&quot;</td><td>116453</td><td>1759825</td></tr><tr><td>2015-07-27 05:09:31.542</td><td>1407573</td><td>&quot;view&quot;</td><td>235724</td><td>1759825</td></tr><tr><td>2015-07-27 05:13:15.037</td><td>1407573</td><td>&quot;view&quot;</td><td>57720</td><td>1759825</td></tr></tbody></table></div>"
      ],
      "text/plain": [
       "shape: (914_453, 5)\n",
       "┌─────────────────────────┬─────────┬──────┬────────┬───────────┐\n",
       "│ Time                    ┆ UserId  ┆ Type ┆ ItemId ┆ SessionId │\n",
       "│ ---                     ┆ ---     ┆ ---  ┆ ---    ┆ ---       │\n",
       "│ datetime[ms]            ┆ i64     ┆ str  ┆ i64    ┆ u32       │\n",
       "╞═════════════════════════╪═════════╪══════╪════════╪═══════════╡\n",
       "│ 2015-08-07 17:51:44.567 ┆ 2       ┆ view ┆ 325215 ┆ 3         │\n",
       "│ 2015-08-07 17:53:33.790 ┆ 2       ┆ view ┆ 325215 ┆ 3         │\n",
       "│ 2015-08-07 17:56:52.664 ┆ 2       ┆ view ┆ 259884 ┆ 3         │\n",
       "│ 2015-08-07 18:01:08.920 ┆ 2       ┆ view ┆ 216305 ┆ 3         │\n",
       "│ 2015-08-07 18:08:25.669 ┆ 2       ┆ view ┆ 342816 ┆ 3         │\n",
       "│ …                       ┆ …       ┆ …    ┆ …      ┆ …         │\n",
       "│ 2015-06-17 23:57:31.071 ┆ 1407527 ┆ view ┆ 85307  ┆ 1759774   │\n",
       "│ 2015-07-27 05:05:55.003 ┆ 1407573 ┆ view ┆ 232069 ┆ 1759825   │\n",
       "│ 2015-07-27 05:07:58.632 ┆ 1407573 ┆ view ┆ 116453 ┆ 1759825   │\n",
       "│ 2015-07-27 05:09:31.542 ┆ 1407573 ┆ view ┆ 235724 ┆ 1759825   │\n",
       "│ 2015-07-27 05:13:15.037 ┆ 1407573 ┆ view ┆ 57720  ┆ 1759825   │\n",
       "└─────────────────────────┴─────────┴──────┴────────┴───────────┘"
      ]
     },
     "execution_count": 88,
     "metadata": {},
     "output_type": "execute_result"
    }
   ],
   "source": [
    "# remove test data from the dataset\n",
    "train = data.filter(pl.col('Time') <= max_time - pl.duration(days=7))\n",
    "\n",
    "train"
   ]
  },
  {
   "cell_type": "markdown",
   "metadata": {},
   "source": [
    "Filter out items that are in the test data but not in the train data. "
   ]
  },
  {
   "cell_type": "code",
   "execution_count": 89,
   "metadata": {},
   "outputs": [
    {
     "data": {
      "text/plain": [
       "(32422, 5)"
      ]
     },
     "execution_count": 89,
     "metadata": {},
     "output_type": "execute_result"
    }
   ],
   "source": [
    "ItemIdsInTest = test.select('ItemId').unique()\n",
    "ItemIdsInTrain = train.select('ItemId').unique()\n",
    "\n",
    "# create a list with the item ids that are in the test set but not in the training set\n",
    "ItemIdsInTestbutNotInTrain = ItemIdsInTest.filter(~pl.col('ItemId').is_in(ItemIdsInTrain))\n",
    "\n",
    "# remove items that are in the test set but not in the training set\n",
    "test = test.filter(~pl.col('ItemId').is_in(ItemIdsInTestbutNotInTrain))\n",
    "\n",
    "test.shape"
   ]
  },
  {
   "cell_type": "markdown",
   "metadata": {},
   "source": [
    "prepare the data for the model by converting the Time back to unix time"
   ]
  },
  {
   "cell_type": "code",
   "execution_count": 90,
   "metadata": {},
   "outputs": [],
   "source": [
    "train = train.with_columns(\n",
    "    pl.col(\"Time\").dt.epoch(time_unit='ms').alias(\"Time\")\n",
    ")\n",
    "\n",
    "test = test.with_columns(\n",
    "    pl.col(\"Time\").dt.epoch(time_unit='ms').alias(\"Time\")\n",
    ")   "
   ]
  },
  {
   "cell_type": "markdown",
   "metadata": {},
   "source": [
    "save the datasets"
   ]
  },
  {
   "cell_type": "code",
   "execution_count": 91,
   "metadata": {},
   "outputs": [],
   "source": [
    "# create directory\n",
    "os.makedirs('data/processed datasets/retailrocket', exist_ok=True)\n",
    "\n",
    "train.write_csv('data/processed datasets/retailrocket/events_train.csv',\n",
    "                separator='\\t')\n",
    "test.write_csv('data/processed datasets/retailrocket/events_test.csv',\n",
    "               separator='\\t')"
   ]
  },
  {
   "cell_type": "markdown",
   "metadata": {},
   "source": [
    "summary statistics"
   ]
  },
  {
   "cell_type": "code",
   "execution_count": 92,
   "metadata": {},
   "outputs": [],
   "source": [
    "# concat the train and test data to calculate the statistics\n",
    "data = pl.concat([train, test])"
   ]
  },
  {
   "cell_type": "code",
   "execution_count": 93,
   "metadata": {},
   "outputs": [
    {
     "data": {
      "text/html": [
       "<div><style>\n",
       ".dataframe > thead > tr,\n",
       ".dataframe > tbody > tr {\n",
       "  text-align: right;\n",
       "  white-space: pre-wrap;\n",
       "}\n",
       "</style>\n",
       "<small>shape: (3, 2)</small><table border=\"1\" class=\"dataframe\"><thead><tr><th>Type</th><th>len</th></tr><tr><td>str</td><td>u32</td></tr></thead><tbody><tr><td>&quot;view&quot;</td><td>871411</td></tr><tr><td>&quot;transaction&quot;</td><td>20408</td></tr><tr><td>&quot;addtocart&quot;</td><td>55056</td></tr></tbody></table></div>"
      ],
      "text/plain": [
       "shape: (3, 2)\n",
       "┌─────────────┬────────┐\n",
       "│ Type        ┆ len    │\n",
       "│ ---         ┆ ---    │\n",
       "│ str         ┆ u32    │\n",
       "╞═════════════╪════════╡\n",
       "│ view        ┆ 871411 │\n",
       "│ transaction ┆ 20408  │\n",
       "│ addtocart   ┆ 55056  │\n",
       "└─────────────┴────────┘"
      ]
     },
     "execution_count": 93,
     "metadata": {},
     "output_type": "execute_result"
    }
   ],
   "source": [
    "data.group_by('Type').len()"
   ]
  },
  {
   "cell_type": "code",
   "execution_count": 94,
   "metadata": {},
   "outputs": [
    {
     "data": {
      "text/plain": [
       "(946875, 5)"
      ]
     },
     "execution_count": 94,
     "metadata": {},
     "output_type": "execute_result"
    }
   ],
   "source": [
    "data.shape"
   ]
  },
  {
   "cell_type": "code",
   "execution_count": 95,
   "metadata": {},
   "outputs": [
    {
     "name": "stdout",
     "output_type": "stream",
     "text": [
      "Summary statistics for the whole dataset: \n",
      "Number of unique items: 93407\n",
      "Number of sessions: 169852\n",
      "Average session length: 5.57\n",
      "\n",
      "Summary statistics for the train dataset: \n",
      "Number of unique items: 93407\n",
      "Number of sessions: 163437\n",
      "Average session length: 5.6\n",
      "\n",
      "Summary statistics for the test dataset: \n",
      "Number of unique items: 11699\n",
      "Number of sessions: 6426\n",
      "Average session length: 5.05\n",
      "\n"
     ]
    }
   ],
   "source": [
    "def summary_stats(df, dataset_str):\n",
    "    print(f'Summary statistics for the {dataset_str} dataset: ')\n",
    "    # calculate the number of unique items\n",
    "    n_items = df.select('ItemId').n_unique()\n",
    "    print(f'Number of unique items: {n_items}')\n",
    "    # calculate the number of sessions\n",
    "    n_sessions = df.select('SessionId').n_unique()\n",
    "    print(f'Number of sessions: {n_sessions}')\n",
    "    # calculate the session length\n",
    "    session_length = df.group_by('SessionId').agg(pl.count('SessionId').alias('len')).select(pl.col('len').mean())[0, 0]\n",
    "    print(f'Average session length: {round(session_length, 2)}\\n')\n",
    "    \n",
    "summary_stats(data, 'whole')\n",
    "summary_stats(train, 'train')\n",
    "summary_stats(test, 'test')"
   ]
  }
 ],
 "metadata": {
  "kernelspec": {
   "display_name": "master_thesis",
   "language": "python",
   "name": "python3"
  },
  "language_info": {
   "codemirror_mode": {
    "name": "ipython",
    "version": 3
   },
   "file_extension": ".py",
   "mimetype": "text/x-python",
   "name": "python",
   "nbconvert_exporter": "python",
   "pygments_lexer": "ipython3",
   "version": "3.9.19"
  }
 },
 "nbformat": 4,
 "nbformat_minor": 2
}
